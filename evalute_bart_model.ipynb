{
 "cells": [
  {
   "cell_type": "code",
   "execution_count": 1,
   "metadata": {},
   "outputs": [],
   "source": [
    "from transformers import PreTrainedTokenizerFast\n",
    "tokenizer = PreTrainedTokenizerFast(tokenizer_file=\"tokenizer.json\", \n",
    "                                    bos_token=\"<s>\", eos_token=\"</s>\", unk_token=\"<unk>\", pad_token=\"<pad>\")"
   ]
  },
  {
   "cell_type": "code",
   "execution_count": 2,
   "metadata": {},
   "outputs": [],
   "source": [
    "from transformers import BartForConditionalGeneration\n",
    "model = BartForConditionalGeneration.from_pretrained('models/kana-kanji/checkpoint-290000')"
   ]
  },
  {
   "cell_type": "code",
   "execution_count": 3,
   "metadata": {},
   "outputs": [],
   "source": [
    "from datasets import load_dataset, DatasetDict\n",
    "dataset_dict = DatasetDict.load_from_disk('dataset_all')"
   ]
  },
  {
   "cell_type": "code",
   "execution_count": 4,
   "metadata": {},
   "outputs": [],
   "source": [
    "import torch\n",
    "def make_predictions_and_refereces(dataset):\n",
    "    input_ids = torch.IntTensor(dataset['input_ids'])\n",
    "    generated_ids = model.generate(input_ids, num_beams=5, max_length=1024, early_stopping=True)\n",
    "    generated_texts_tokenized = tokenizer.batch_decode(generated_ids, skip_special_tokens=True)\n",
    "    target_texts = [' '.join(tokenizer.tokenize(text)) for text in dataset['plain_text']]\n",
    "    return generated_texts_tokenized, target_texts"
   ]
  },
  {
   "cell_type": "code",
   "execution_count": 5,
   "metadata": {},
   "outputs": [
    {
     "name": "stdout",
     "output_type": "stream",
     "text": [
      "reference:  実は 図 書 館 で ＤＮＡ について の 本 を 借 り た んですよ\n",
      "predictions: 実は 図 書 館 で ＤＮＡ について の 本 を 借 り た んですよ\n",
      "\n",
      "reference:  で<sp> 次に デ ジ タ ル ポ ート フォ リ オ ア セ ス メント の方 ですが <F>ま</F> デ ジ タ ル ポ ート フォ リ オ の 構 築 パー ソ ナ ル ポ ート フォ リ オ への 解釈 意味 付け による 学習 者の 自 己 評価\n",
      "predictions: で<sp> 次に デ ジ タ ル ポ ート フォ リ オ ア セ ス メント の方 ですが <F>ま</F> デ ジ テ ラ ル 法 と フォ リ ク パー ソ ナ ル ポ ント フォ リ エ の 解釈 意味 付け による 学習 者の 自 己 評価\n",
      "\n",
      "reference:  など を 含 め ると\n",
      "predictions: など を 含 め ると\n",
      "\n",
      "reference:  <F>あのー</F><sp> じゃ 今日 は<F>あの</F> ちょっと 家 に 帰 れない から ど っか 泊 ま ろう <F>んー</F> ホ テ ル 泊 ま んな きゃ いけない やっぱ お金 お金 掛 から なきゃ いけない <sp> な っていう とか\n",
      "predictions: <F>あのー</F><sp> じゃ 今日 は<F>あの</F> ちょっと 家 に 帰 れない から ど っか 泊 ま ろう <F>んー</F> ホ テ ル 止 ま んな きゃ いけない やっぱ お金 掛 から なきゃ いけない <sp> な っていう とか\n",
      "\n",
      "reference:  <F>と</F> 調査 結果 を まとめ ます\n",
      "predictions: <F>と</F> 調査 結果 を まとめ ます\n",
      "\n"
     ]
    }
   ],
   "source": [
    "predictions, references = make_predictions_and_refereces(dataset_dict['test'][:5])\n",
    "for p, r in zip(predictions, references):\n",
    "    print(f\"reference:  {r}\")\n",
    "    print(f\"predictions: {p}\\n\")"
   ]
  },
  {
   "cell_type": "code",
   "execution_count": 9,
   "metadata": {},
   "outputs": [
    {
     "data": {
      "application/vnd.jupyter.widget-view+json": {
       "model_id": "8ccfca744d0b4081849175fd0f67c333",
       "version_major": 2,
       "version_minor": 0
      },
      "text/plain": [
       "Downloading builder script:   0%|          | 0.00/5.60k [00:00<?, ?B/s]"
      ]
     },
     "metadata": {},
     "output_type": "display_data"
    }
   ],
   "source": [
    "import evaluate\n",
    "metric_cer = evaluate.load(\"cer\")\n",
    "metric_wer = evaluate.load(\"wer\")\n",
    "metric_bleu = evaluate.load(\"bleu\")\n",
    "metric_rouge = evaluate.load(\"rouge\")\n",
    "# metrics = evaluate.combine([\"wer\", \"bleu\", \"rouge\"])"
   ]
  },
  {
   "cell_type": "code",
   "execution_count": 23,
   "metadata": {},
   "outputs": [],
   "source": [
    "import tqdm"
   ]
  },
  {
   "cell_type": "code",
   "execution_count": 29,
   "metadata": {},
   "outputs": [
    {
     "name": "stderr",
     "output_type": "stream",
     "text": [
      "100%|██████████| 32/32 [06:06<00:00, 11.45s/it]\n"
     ]
    }
   ],
   "source": [
    "num_data = len(dataset_dict['test'])\n",
    "batch_size = 32\n",
    "num_batches = (num_data + batch_size - 1) // batch_size\n",
    "for i in tqdm.tqdm(range(num_batches)):\n",
    "    start = i * batch_size\n",
    "    end = min((i + 1) * batch_size, num_data)\n",
    "    predictions, references = make_predictions_and_refereces(dataset_dict['test'][start:end])\n",
    "    predictions_without_whitespace = [p.replace(' ', '') for p in predictions]\n",
    "    references_without_whitespace = [r.replace(' ', '') for r in references]\n",
    "    metric_cer.add_batch(predictions=predictions_without_whitespace, \n",
    "                            references=references_without_whitespace)\n",
    "    metric_wer.add_batch(predictions=predictions, references=references)\n",
    "    metric_bleu.add_batch(predictions=predictions, references=references)\n",
    "    metric_rouge.add_batch(predictions=predictions, references=references)\n",
    "    # metrics.add_batch(predictions=predictions, references=references)\n",
    "    "
   ]
  },
  {
   "cell_type": "code",
   "execution_count": 30,
   "metadata": {},
   "outputs": [],
   "source": [
    "cer_score = metric_cer.compute()\n",
    "wer_score = metric_wer.compute()\n",
    "bleu_score = metric_bleu.compute()\n",
    "rouge_score = metric_rouge.compute()"
   ]
  },
  {
   "cell_type": "code",
   "execution_count": 31,
   "metadata": {},
   "outputs": [
    {
     "data": {
      "text/plain": [
       "(0.014340080525067564,\n",
       " 0.037589291906512244,\n",
       " {'bleu': 0.9629690911764732,\n",
       "  'precisions': [0.9817547399840248,\n",
       "   0.9705095010312897,\n",
       "   0.9598222466556716,\n",
       "   0.9494925315970892],\n",
       "  'brevity_penalty': 0.9975646636169296,\n",
       "  'length_ratio': 0.9975676242398825,\n",
       "  'translation_length': 47574,\n",
       "  'reference_length': 47690},\n",
       " {'rouge1': 0.7198958333333334,\n",
       "  'rouge2': 0.5961681818181819,\n",
       "  'rougeL': 0.7193541666666666,\n",
       "  'rougeLsum': 0.7200416666666667})"
      ]
     },
     "execution_count": 31,
     "metadata": {},
     "output_type": "execute_result"
    }
   ],
   "source": [
    "cer_score, wer_score, bleu_score, rouge_score"
   ]
  }
 ],
 "metadata": {
  "kernelspec": {
   "display_name": "py39",
   "language": "python",
   "name": "python3"
  },
  "language_info": {
   "codemirror_mode": {
    "name": "ipython",
    "version": 3
   },
   "file_extension": ".py",
   "mimetype": "text/x-python",
   "name": "python",
   "nbconvert_exporter": "python",
   "pygments_lexer": "ipython3",
   "version": "3.9.16"
  },
  "orig_nbformat": 4
 },
 "nbformat": 4,
 "nbformat_minor": 2
}
