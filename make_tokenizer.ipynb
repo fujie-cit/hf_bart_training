{
 "cells": [
  {
   "cell_type": "code",
   "execution_count": 19,
   "metadata": {},
   "outputs": [],
   "source": [
    "from tokenizers import Tokenizer\n",
    "from tokenizers.models import BPE, Unigram, WordPiece\n",
    "from tokenizers.pre_tokenizers import WhitespaceSplit\n",
    "import tokenizers.decoders as decoders\n",
    "tokenizer = Tokenizer(BPE(unk_token=\"<unk>\"))\n",
    "tokenizer.decoer = decoders.BPEDecoder()\n",
    "\n",
    "# tokenizer = Tokenizer(Unigram())\n",
    "# tokenizer = Tokenizer(WordPiece(unk_token=\"<unk>\",))\n",
    "# tokenizer.decoder = decoders.WordPiece()\n",
    "\n",
    "tokenizer.pre_tokenizer = WhitespaceSplit()"
   ]
  },
  {
   "cell_type": "code",
   "execution_count": 20,
   "metadata": {},
   "outputs": [],
   "source": [
    "vocab_size = 5000\n",
    "special_tokens = [\"<s>\", \"<pad>\", \"</s>\", \"<unk>\"]\n",
    "from tokenizers.trainers import BpeTrainer\n",
    "trainer = BpeTrainer(vocab_size=vocab_size, special_tokens=special_tokens, show_progress=True)\n",
    "# from tokenizers.trainers import UnigramTrainer\n",
    "# trainer = UnigramTrainer(special_tokens=special_tokens, show_progress=True)\n",
    "# from tokenizers.trainers import WordPieceTrainer\n",
    "# trainer = WordPieceTrainer(special_tokens=special_tokens, show_progress=True)\n"
   ]
  },
  {
   "cell_type": "code",
   "execution_count": 21,
   "metadata": {},
   "outputs": [],
   "source": [
    "def gen():\n",
    "    import json\n",
    "    data = json.load(open(\"all.json\", \"r\"))\n",
    "    for d in data:\n",
    "        yield d[\"plain_text\"]\n",
    "        yield d[\"tokenized_kana_text\"]"
   ]
  },
  {
   "cell_type": "code",
   "execution_count": 22,
   "metadata": {},
   "outputs": [
    {
     "name": "stdout",
     "output_type": "stream",
     "text": [
      "\n",
      "\n",
      "\n"
     ]
    }
   ],
   "source": [
    "tokenizer.train_from_iterator(gen(), trainer=trainer)"
   ]
  },
  {
   "cell_type": "code",
   "execution_count": 23,
   "metadata": {},
   "outputs": [],
   "source": [
    "from tokenizers.processors import TemplateProcessing\n",
    "\n",
    "tokenizer.post_processor = TemplateProcessing(\n",
    "    single=\"<s> $A </s>\",\n",
    "    pair=\"<s> $A </s> </s> <s> $B </s>\",\n",
    "    special_tokens=[\n",
    "        (\"<s>\", tokenizer.token_to_id(\"<s>\")),\n",
    "        (\"</s>\", tokenizer.token_to_id(\"</s>\")),\n",
    "    ],)"
   ]
  },
  {
   "cell_type": "code",
   "execution_count": 24,
   "metadata": {},
   "outputs": [],
   "source": [
    "tokenizer.save(\"tokenizer.json\")"
   ]
  },
  {
   "cell_type": "code",
   "execution_count": 25,
   "metadata": {},
   "outputs": [],
   "source": [
    "text1 = \"エ+F ー+F | コ ノ | ダ イ メ ー カ ラ ー | ワ タ シ ガ | ナ ニ オ | ヤ リ タ イ カ ッ テ ユ ー ノ ガ | チョ ッ ト | ワ カ リ ズ ラ イ ト | オ モ ウ ン デ ス ケ レ ド モ <sp> エ+F ー+F | コ ノ | ケ ン キュ ー オ ト ー シ テ | ワ タ シ ガ ー | ヤ リ タ カ ッ タ | コ ト ト ユ ー ノ ワ\"\n",
    "text2 = \"エ+F ー+F ト+F | オ ン セ ー ト | モ ジ ー ト | ハ ツ ワ ウ ン ド ー ノ+D ト ノ | カ ン ケ ー オ | ア キ ラ カ ニ | ス ル | コ ト デ ス\"\n",
    "text3 = \"それではこれから発表を始めたいと思います\"\n",
    "encoded = tokenizer.encode(text3)"
   ]
  },
  {
   "cell_type": "code",
   "execution_count": 30,
   "metadata": {},
   "outputs": [
    {
     "data": {
      "text/plain": [
       "'それ では これから 発表 を 始め たい と思います'"
      ]
     },
     "execution_count": 30,
     "metadata": {},
     "output_type": "execute_result"
    }
   ],
   "source": [
    "tokenizer.decode(encoded.ids, skip_special_tokens=True)"
   ]
  },
  {
   "cell_type": "code",
   "execution_count": 31,
   "metadata": {},
   "outputs": [
    {
     "data": {
      "text/plain": [
       "[0, 3316, 3359, 4212, 3866, 125, 4982, 3428, 3420, 2]"
      ]
     },
     "execution_count": 31,
     "metadata": {},
     "output_type": "execute_result"
    }
   ],
   "source": [
    "encoded.ids"
   ]
  }
 ],
 "metadata": {
  "kernelspec": {
   "display_name": "py39",
   "language": "python",
   "name": "python3"
  },
  "language_info": {
   "codemirror_mode": {
    "name": "ipython",
    "version": 3
   },
   "file_extension": ".py",
   "mimetype": "text/x-python",
   "name": "python",
   "nbconvert_exporter": "python",
   "pygments_lexer": "ipython3",
   "version": "3.9.16"
  },
  "orig_nbformat": 4
 },
 "nbformat": 4,
 "nbformat_minor": 2
}
